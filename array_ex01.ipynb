{
 "cells": [
  {
   "cell_type": "code",
   "execution_count": 1,
   "metadata": {},
   "outputs": [
    {
     "name": "stdout",
     "output_type": "stream",
     "text": [
      "[1 2 3 4]\n",
      "<class 'numpy.ndarray'>\n"
     ]
    }
   ],
   "source": [
    "import numpy as np\n",
    "a=np.array([1,2,3,4])\n",
    "print(a)\n",
    "print(type(a))"
   ]
  },
  {
   "cell_type": "code",
   "execution_count": 3,
   "metadata": {},
   "outputs": [
    {
     "name": "stdout",
     "output_type": "stream",
     "text": [
      "[1, 2, 3, 4, 1, 2, 3, 4]\n",
      "[2 4 6 8]\n"
     ]
    }
   ],
   "source": [
    "a=[1,2,3,4] #리스트\n",
    "b=[1,2,3,4]\n",
    "print(a+b)\n",
    "\n",
    "a=np.array([1,2,3,4]) #행렬\n",
    "b=np.array([1,2,3,4])\n",
    "print(a+b)"
   ]
  },
  {
   "cell_type": "code",
   "execution_count": 4,
   "metadata": {},
   "outputs": [
    {
     "name": "stdout",
     "output_type": "stream",
     "text": [
      "[1.4 2.4 3.3 4.2]\n",
      "[0.6 1.6 2.7 3.8]\n",
      "[0.4 0.8 0.9 0.8]\n",
      "[ 2.5  5.  10.  20. ]\n"
     ]
    }
   ],
   "source": [
    "import numpy as np #산술연산\n",
    "\n",
    "a=np.array([1,2,3,4])\n",
    "b=np.array([.4,.4,.3,.2])\n",
    "print(a+b)\n",
    "print(a-b)\n",
    "print(a*b)\n",
    "print(a/b)"
   ]
  },
  {
   "cell_type": "code",
   "execution_count": 5,
   "metadata": {},
   "outputs": [
    {
     "name": "stdout",
     "output_type": "stream",
     "text": [
      "[[ 6  8]\n",
      " [10 12]]\n",
      "[[ 5 12]\n",
      " [21 32]]\n"
     ]
    }
   ],
   "source": [
    "#2차원 배열과 행렬\n",
    "import numpy as np\n",
    "\n",
    "A=np.array([[1,2],[3,4]])\n",
    "B=np.array([[5,6],[7,8]])\n",
    "print(A+B)\n",
    "print(A*B)"
   ]
  },
  {
   "cell_type": "code",
   "execution_count": 6,
   "metadata": {},
   "outputs": [
    {
     "name": "stdout",
     "output_type": "stream",
     "text": [
      "[[ 7 10]\n",
      " [15 22]]\n"
     ]
    }
   ],
   "source": [
    "#행렬의 곱\n",
    "import numpy as np\n",
    "\n",
    "A=np.array([[1,2],[3,4]])\n",
    "B=np.array([[1,2],[3,4]])\n",
    "print(np.dot(A,B))"
   ]
  },
  {
   "cell_type": "code",
   "execution_count": 9,
   "metadata": {},
   "outputs": [
    {
     "name": "stdout",
     "output_type": "stream",
     "text": [
      "[[2 4]\n",
      " [6 8]]\n",
      "----------\n",
      "[[2 4]\n",
      " [4 6]]\n",
      "----------\n",
      "[[2 3]\n",
      " [5 6]]\n",
      "----------\n",
      "[[3 4]\n",
      " [5 6]]\n"
     ]
    }
   ],
   "source": [
    "#브로드캐스트1\n",
    "import numpy as np\n",
    "\n",
    "A=np.array([[1,2],\n",
    "           [3,4]])\n",
    "B=np.array([[1,2],\n",
    "           [3,4]])\n",
    "print(A+B)\n",
    "print(\"-\"*10)\n",
    "\n",
    "B=np.array([[1,2]])\n",
    "print(A+B)\n",
    "print(\"-\"*10)\n",
    "\n",
    "B=np.array([[1],\n",
    "           [2]])\n",
    "print(A+B)\n",
    "print(\"-\"*10)\n",
    "\n",
    "B=2\n",
    "print(A+B)"
   ]
  },
  {
   "cell_type": "code",
   "execution_count": 10,
   "metadata": {},
   "outputs": [
    {
     "name": "stdout",
     "output_type": "stream",
     "text": [
      "[[2 4]\n",
      " [4 6]]\n"
     ]
    }
   ],
   "source": [
    "#브로드캐스트2\n",
    "A=np.array([[1,2],\n",
    "           [3,4]])\n",
    "B=np.array([[1,2]])\n",
    "print((A+B))"
   ]
  },
  {
   "cell_type": "code",
   "execution_count": 11,
   "metadata": {},
   "outputs": [
    {
     "name": "stdout",
     "output_type": "stream",
     "text": [
      "[[2 3]\n",
      " [5 6]]\n"
     ]
    }
   ],
   "source": [
    "#브로드캐스트3\n",
    "A=np.array([[1,2],\n",
    "           [3,4]])\n",
    "B=np.array([[1],\n",
    "           [2]])\n",
    "print((A+B))"
   ]
  },
  {
   "cell_type": "code",
   "execution_count": 12,
   "metadata": {},
   "outputs": [
    {
     "name": "stdout",
     "output_type": "stream",
     "text": [
      "[[3 4]\n",
      " [5 6]]\n"
     ]
    }
   ],
   "source": [
    "#브로드캐스트4\n",
    "A=np.array([[1,2],\n",
    "           [3,4]])\n",
    "B=2\n",
    "print((A+B))"
   ]
  },
  {
   "cell_type": "code",
   "execution_count": null,
   "metadata": {},
   "outputs": [],
   "source": []
  }
 ],
 "metadata": {
  "kernelspec": {
   "display_name": "Python 3",
   "language": "python",
   "name": "python3"
  },
  "language_info": {
   "codemirror_mode": {
    "name": "ipython",
    "version": 3
   },
   "file_extension": ".py",
   "mimetype": "text/x-python",
   "name": "python",
   "nbconvert_exporter": "python",
   "pygments_lexer": "ipython3",
   "version": "3.7.8"
  }
 },
 "nbformat": 4,
 "nbformat_minor": 4
}
